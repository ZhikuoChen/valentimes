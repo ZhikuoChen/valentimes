{
 "metadata": {
  "name": ""
 },
 "nbformat": 3,
 "nbformat_minor": 0,
 "worksheets": [
  {
   "cells": [
    {
     "cell_type": "code",
     "collapsed": false,
     "input": [
      "# hey!\n",
      "import numpy as np\n",
      "import scipy.io\n",
      "\n",
      "wishes = scipy.io.loadmat('wishes.mat')\n",
      "happy = wishes['happy']\n",
      "valentines = wishes['valentines']"
     ],
     "language": "python",
     "metadata": {},
     "outputs": []
    },
    {
     "cell_type": "code",
     "collapsed": false,
     "input": [
      "# roses are red,\n",
      "imshow(happy, cmap=cm.gray)"
     ],
     "language": "python",
     "metadata": {},
     "outputs": []
    },
    {
     "cell_type": "code",
     "collapsed": false,
     "input": [
      "# violets are blue,\n",
      "imshow(valentines, cmap=cm.gray)"
     ],
     "language": "python",
     "metadata": {},
     "outputs": []
    },
    {
     "cell_type": "code",
     "collapsed": false,
     "input": [
      "# this code was written just for you\n",
      "card = np.dot(happy, valentines)\n",
      "imshow(card)"
     ],
     "language": "python",
     "metadata": {},
     "outputs": []
    }
   ],
   "metadata": {}
  }
 ]
}